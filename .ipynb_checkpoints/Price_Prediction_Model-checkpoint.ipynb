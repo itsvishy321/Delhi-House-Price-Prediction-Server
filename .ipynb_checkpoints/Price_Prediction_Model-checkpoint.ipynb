{
 "cells": [
  {
   "cell_type": "code",
   "execution_count": 1,
   "id": "76f292a8",
   "metadata": {},
   "outputs": [],
   "source": [
    "import pandas as pd\n",
    "import numpy as np"
   ]
  },
  {
   "cell_type": "code",
   "execution_count": 3,
   "id": "d7a0b8d3",
   "metadata": {},
   "outputs": [],
   "source": [
    "data = pd.read_csv('MagicBricks.csv')"
   ]
  },
  {
   "cell_type": "code",
   "execution_count": 4,
   "id": "8fa9127c",
   "metadata": {},
   "outputs": [
    {
     "data": {
      "text/html": [
       "<div>\n",
       "<style scoped>\n",
       "    .dataframe tbody tr th:only-of-type {\n",
       "        vertical-align: middle;\n",
       "    }\n",
       "\n",
       "    .dataframe tbody tr th {\n",
       "        vertical-align: top;\n",
       "    }\n",
       "\n",
       "    .dataframe thead th {\n",
       "        text-align: right;\n",
       "    }\n",
       "</style>\n",
       "<table border=\"1\" class=\"dataframe\">\n",
       "  <thead>\n",
       "    <tr style=\"text-align: right;\">\n",
       "      <th></th>\n",
       "      <th>Area</th>\n",
       "      <th>BHK</th>\n",
       "      <th>Bathroom</th>\n",
       "      <th>Furnishing</th>\n",
       "      <th>Locality</th>\n",
       "      <th>Parking</th>\n",
       "      <th>Price</th>\n",
       "      <th>Status</th>\n",
       "      <th>Transaction</th>\n",
       "      <th>Type</th>\n",
       "      <th>Per_Sqft</th>\n",
       "    </tr>\n",
       "  </thead>\n",
       "  <tbody>\n",
       "    <tr>\n",
       "      <th>0</th>\n",
       "      <td>800.0</td>\n",
       "      <td>3</td>\n",
       "      <td>2.0</td>\n",
       "      <td>Semi-Furnished</td>\n",
       "      <td>Rohini Sector 25</td>\n",
       "      <td>1.0</td>\n",
       "      <td>6500000</td>\n",
       "      <td>Ready_to_move</td>\n",
       "      <td>New_Property</td>\n",
       "      <td>Builder_Floor</td>\n",
       "      <td>NaN</td>\n",
       "    </tr>\n",
       "    <tr>\n",
       "      <th>1</th>\n",
       "      <td>750.0</td>\n",
       "      <td>2</td>\n",
       "      <td>2.0</td>\n",
       "      <td>Semi-Furnished</td>\n",
       "      <td>J R Designers Floors, Rohini Sector 24</td>\n",
       "      <td>1.0</td>\n",
       "      <td>5000000</td>\n",
       "      <td>Ready_to_move</td>\n",
       "      <td>New_Property</td>\n",
       "      <td>Apartment</td>\n",
       "      <td>6667.0</td>\n",
       "    </tr>\n",
       "    <tr>\n",
       "      <th>2</th>\n",
       "      <td>950.0</td>\n",
       "      <td>2</td>\n",
       "      <td>2.0</td>\n",
       "      <td>Furnished</td>\n",
       "      <td>Citizen Apartment, Rohini Sector 13</td>\n",
       "      <td>1.0</td>\n",
       "      <td>15500000</td>\n",
       "      <td>Ready_to_move</td>\n",
       "      <td>Resale</td>\n",
       "      <td>Apartment</td>\n",
       "      <td>6667.0</td>\n",
       "    </tr>\n",
       "    <tr>\n",
       "      <th>3</th>\n",
       "      <td>600.0</td>\n",
       "      <td>2</td>\n",
       "      <td>2.0</td>\n",
       "      <td>Semi-Furnished</td>\n",
       "      <td>Rohini Sector 24</td>\n",
       "      <td>1.0</td>\n",
       "      <td>4200000</td>\n",
       "      <td>Ready_to_move</td>\n",
       "      <td>Resale</td>\n",
       "      <td>Builder_Floor</td>\n",
       "      <td>6667.0</td>\n",
       "    </tr>\n",
       "    <tr>\n",
       "      <th>4</th>\n",
       "      <td>650.0</td>\n",
       "      <td>2</td>\n",
       "      <td>2.0</td>\n",
       "      <td>Semi-Furnished</td>\n",
       "      <td>Rohini Sector 24 carpet area 650 sqft status R...</td>\n",
       "      <td>1.0</td>\n",
       "      <td>6200000</td>\n",
       "      <td>Ready_to_move</td>\n",
       "      <td>New_Property</td>\n",
       "      <td>Builder_Floor</td>\n",
       "      <td>6667.0</td>\n",
       "    </tr>\n",
       "  </tbody>\n",
       "</table>\n",
       "</div>"
      ],
      "text/plain": [
       "    Area  BHK  Bathroom      Furnishing  \\\n",
       "0  800.0    3       2.0  Semi-Furnished   \n",
       "1  750.0    2       2.0  Semi-Furnished   \n",
       "2  950.0    2       2.0       Furnished   \n",
       "3  600.0    2       2.0  Semi-Furnished   \n",
       "4  650.0    2       2.0  Semi-Furnished   \n",
       "\n",
       "                                            Locality  Parking     Price  \\\n",
       "0                                   Rohini Sector 25      1.0   6500000   \n",
       "1             J R Designers Floors, Rohini Sector 24      1.0   5000000   \n",
       "2                Citizen Apartment, Rohini Sector 13      1.0  15500000   \n",
       "3                                   Rohini Sector 24      1.0   4200000   \n",
       "4  Rohini Sector 24 carpet area 650 sqft status R...      1.0   6200000   \n",
       "\n",
       "          Status   Transaction           Type  Per_Sqft  \n",
       "0  Ready_to_move  New_Property  Builder_Floor       NaN  \n",
       "1  Ready_to_move  New_Property      Apartment    6667.0  \n",
       "2  Ready_to_move        Resale      Apartment    6667.0  \n",
       "3  Ready_to_move        Resale  Builder_Floor    6667.0  \n",
       "4  Ready_to_move  New_Property  Builder_Floor    6667.0  "
      ]
     },
     "execution_count": 4,
     "metadata": {},
     "output_type": "execute_result"
    }
   ],
   "source": [
    "data.head()"
   ]
  },
  {
   "cell_type": "code",
   "execution_count": 5,
   "id": "809c14bb",
   "metadata": {},
   "outputs": [
    {
     "data": {
      "text/plain": [
       "(1259, 11)"
      ]
     },
     "execution_count": 5,
     "metadata": {},
     "output_type": "execute_result"
    }
   ],
   "source": [
    "data.shape"
   ]
  },
  {
   "cell_type": "code",
   "execution_count": 6,
   "id": "ed6d01be",
   "metadata": {},
   "outputs": [
    {
     "name": "stdout",
     "output_type": "stream",
     "text": [
      "<class 'pandas.core.frame.DataFrame'>\n",
      "RangeIndex: 1259 entries, 0 to 1258\n",
      "Data columns (total 11 columns):\n",
      " #   Column       Non-Null Count  Dtype  \n",
      "---  ------       --------------  -----  \n",
      " 0   Area         1259 non-null   float64\n",
      " 1   BHK          1259 non-null   int64  \n",
      " 2   Bathroom     1257 non-null   float64\n",
      " 3   Furnishing   1254 non-null   object \n",
      " 4   Locality     1259 non-null   object \n",
      " 5   Parking      1226 non-null   float64\n",
      " 6   Price        1259 non-null   int64  \n",
      " 7   Status       1259 non-null   object \n",
      " 8   Transaction  1259 non-null   object \n",
      " 9   Type         1254 non-null   object \n",
      " 10  Per_Sqft     1018 non-null   float64\n",
      "dtypes: float64(4), int64(2), object(5)\n",
      "memory usage: 108.3+ KB\n"
     ]
    }
   ],
   "source": [
    "data.info() #Tells kitne column hai har column mei kitni non-null values hai"
   ]
  },
  {
   "cell_type": "code",
   "execution_count": 7,
   "id": "6a2258b0",
   "metadata": {},
   "outputs": [
    {
     "name": "stdout",
     "output_type": "stream",
     "text": [
      "900.0      67\n",
      "1500.0     50\n",
      "1800.0     48\n",
      "1000.0     42\n",
      "1600.0     38\n",
      "           ..\n",
      "150.0       1\n",
      "3250.0      1\n",
      "4000.0      1\n",
      "5500.0      1\n",
      "11050.0     1\n",
      "Name: Area, Length: 315, dtype: int64\n",
      "********************\n",
      "3     541\n",
      "2     367\n",
      "4     220\n",
      "1      96\n",
      "5      27\n",
      "6       6\n",
      "7       1\n",
      "10      1\n",
      "Name: BHK, dtype: int64\n",
      "********************\n",
      "2.0    551\n",
      "3.0    355\n",
      "1.0    146\n",
      "4.0    138\n",
      "5.0     57\n",
      "6.0      7\n",
      "7.0      3\n",
      "Name: Bathroom, dtype: int64\n",
      "********************\n",
      "Semi-Furnished    708\n",
      "Unfurnished       363\n",
      "Furnished         183\n",
      "Name: Furnishing, dtype: int64\n",
      "********************\n",
      "Lajpat Nagar 3                                                                                                                                                                                                                                                                                                                                                                                                                                                                                                                                                                                                                                  34\n",
      "Lajpat Nagar 2                                                                                                                                                                                                                                                                                                                                                                                                                                                                                                                                                                                                                                  33\n",
      "J R Designers Floors, Rohini Sector 24                                                                                                                                                                                                                                                                                                                                                                                                                                                                                                                                                                                                          31\n",
      "Kailash Colony, Greater Kailash                                                                                                                                                                                                                                                                                                                                                                                                                                                                                                                                                                                                                 30\n",
      "Yamuna Vihar, Shahdara                                                                                                                                                                                                                                                                                                                                                                                                                                                                                                                                                                                                                          29\n",
      "                                                                                                                                                                                                                                                                                                                                                                                                                                                                                                                                                                                                                                                ..\n",
      "Safdarjung Enclave carpet area 3250 sqft status Ready to Move floor 1 out of 4 floors transaction Resale furnishing Semi-Furnished facing North - East overlooking Garden/Park, Main Road car parking 1 Covered bathroom 4 balcony 3 ownership Freehold Near Buy Green park Metro station. The location of the property is Awesome and Peaceful. The construction is very Highend and Very tasteful Done-up. The Same property is location on the FF. 4 Side corner read more Contact Agent Enquire Now Share Feedback Crisil Silver Agent Findahouse Real Estate Consultants LLP 2000+ Buyers Served                                            1\n",
      "Safdarjung Enclave carpet area 290 sqyrd status Ready to Move floor 2 out of 3 floors transaction Resale furnishing Semi-Furnished facing West overlooking Main Road car parking 2 Open bathroom 4 balcony 3 ownership Freehold Opposite Deer Park.The property comes with independent Terrace. The area is centrally located and close to ring road which allows easy acess to all other areas.Renowned Delhi Lawn Tennis Association is within 10 minutes walking distance.Green park market is walkable distance. read more Contact Owner View Phone No. Share Feedback Owner Hemant pajankar                                                 1\n",
      "Safdarjung Enclave carpet area 1450 sqft status Ready to Move floor 3 out of 4 floors transaction Resale furnishing Semi-Furnished facing North - East overlooking Garden/Park, Main Road car parking 1 Covered, 1 Open bathroom 3 balcony 2 ownership Freehold Park facing builder floor apartment available for sale in safderjung enclave, 3 bedroom with attached bathroom, drawing dinning, modular kitchen. the property is on the top floor of a four storey building with terrace right, servant quarter, 1 car parking in stilt. read more Contact Agent View Phone No. Share Feedback Agent Delhi Homes Realty 1000+ Buyers Served     1\n",
      "Safdarjung Enclave super area 2200 sqft status Ready to Move floor 2 out of 4 floors transaction New Property furnishing Semi-Furnished facing South overlooking Main Road car parking 3 Covered, 2 Open bathroom 4 balcony 3 ownership Freehold Newly Constructed Property Wide Road 450 Yards 2nd floor brand new 4 bhk attached bathrooms with full lighted and ventilated house.Most Valuable DealSEE TO BELIEVE read more Contact Agent View Phone No. Share Feedback Crisil Bronze Agent Panchsheel Homes 500+ Buyers Served                                                                                                               1\n",
      "Chittaranjan Park Block A                                                                                                                                                                                                                                                                                                                                                                                                                                                                                                                                                                                                                        1\n",
      "Name: Locality, Length: 365, dtype: int64\n",
      "********************\n",
      "1.0      796\n",
      "2.0      341\n",
      "3.0       54\n",
      "4.0       16\n",
      "5.0        7\n",
      "39.0       7\n",
      "114.0      3\n",
      "9.0        1\n",
      "10.0       1\n",
      "Name: Parking, dtype: int64\n",
      "********************\n",
      "15000000     30\n",
      "25000000     21\n",
      "30000000     21\n",
      "6000000      20\n",
      "20000000     20\n",
      "             ..\n",
      "135500000     1\n",
      "8770000       1\n",
      "74000000      1\n",
      "120000000     1\n",
      "22200000      1\n",
      "Name: Price, Length: 284, dtype: int64\n",
      "********************\n",
      "Ready_to_move    1184\n",
      "Almost_ready       75\n",
      "Name: Status, dtype: int64\n",
      "********************\n",
      "Resale          781\n",
      "New_Property    478\n",
      "Name: Transaction, dtype: int64\n",
      "********************\n",
      "Builder_Floor    661\n",
      "Apartment        593\n",
      "Name: Type, dtype: int64\n",
      "********************\n",
      "12500.0    34\n",
      "3524.0     28\n",
      "6667.0     27\n",
      "14818.0    24\n",
      "6154.0     18\n",
      "           ..\n",
      "18793.0     1\n",
      "19811.0     1\n",
      "20270.0     1\n",
      "16654.0     1\n",
      "20581.0     1\n",
      "Name: Per_Sqft, Length: 251, dtype: int64\n",
      "********************\n"
     ]
    }
   ],
   "source": [
    "for column in data.columns:\n",
    "    print(data[column].value_counts()) #Counting number of values of each type in a column\n",
    "    print(\"*\"*20)"
   ]
  },
  {
   "cell_type": "code",
   "execution_count": 7,
   "id": "48967fcd",
   "metadata": {},
   "outputs": [
    {
     "data": {
      "text/plain": [
       "Area             0\n",
       "BHK              0\n",
       "Bathroom         2\n",
       "Furnishing       5\n",
       "Locality         0\n",
       "Parking         33\n",
       "Price            0\n",
       "Status           0\n",
       "Transaction      0\n",
       "Type             5\n",
       "Per_Sqft       241\n",
       "dtype: int64"
      ]
     },
     "execution_count": 7,
     "metadata": {},
     "output_type": "execute_result"
    }
   ],
   "source": [
    "data.isna().sum() #Tells per column total null values kitni hai"
   ]
  },
  {
   "cell_type": "code",
   "execution_count": 8,
   "id": "e2de1b91",
   "metadata": {},
   "outputs": [
    {
     "data": {
      "text/html": [
       "<div>\n",
       "<style scoped>\n",
       "    .dataframe tbody tr th:only-of-type {\n",
       "        vertical-align: middle;\n",
       "    }\n",
       "\n",
       "    .dataframe tbody tr th {\n",
       "        vertical-align: top;\n",
       "    }\n",
       "\n",
       "    .dataframe thead th {\n",
       "        text-align: right;\n",
       "    }\n",
       "</style>\n",
       "<table border=\"1\" class=\"dataframe\">\n",
       "  <thead>\n",
       "    <tr style=\"text-align: right;\">\n",
       "      <th></th>\n",
       "      <th>Area</th>\n",
       "      <th>BHK</th>\n",
       "      <th>Bathroom</th>\n",
       "      <th>Parking</th>\n",
       "      <th>Price</th>\n",
       "      <th>Per_Sqft</th>\n",
       "    </tr>\n",
       "  </thead>\n",
       "  <tbody>\n",
       "    <tr>\n",
       "      <th>count</th>\n",
       "      <td>1259.000000</td>\n",
       "      <td>1259.000000</td>\n",
       "      <td>1257.000000</td>\n",
       "      <td>1226.000000</td>\n",
       "      <td>1.259000e+03</td>\n",
       "      <td>1018.000000</td>\n",
       "    </tr>\n",
       "    <tr>\n",
       "      <th>mean</th>\n",
       "      <td>1466.452724</td>\n",
       "      <td>2.796664</td>\n",
       "      <td>2.556086</td>\n",
       "      <td>1.935563</td>\n",
       "      <td>2.130670e+07</td>\n",
       "      <td>15690.136542</td>\n",
       "    </tr>\n",
       "    <tr>\n",
       "      <th>std</th>\n",
       "      <td>1568.055040</td>\n",
       "      <td>0.954425</td>\n",
       "      <td>1.042220</td>\n",
       "      <td>6.279212</td>\n",
       "      <td>2.560115e+07</td>\n",
       "      <td>21134.738568</td>\n",
       "    </tr>\n",
       "    <tr>\n",
       "      <th>min</th>\n",
       "      <td>28.000000</td>\n",
       "      <td>1.000000</td>\n",
       "      <td>1.000000</td>\n",
       "      <td>1.000000</td>\n",
       "      <td>1.000000e+06</td>\n",
       "      <td>1259.000000</td>\n",
       "    </tr>\n",
       "    <tr>\n",
       "      <th>25%</th>\n",
       "      <td>800.000000</td>\n",
       "      <td>2.000000</td>\n",
       "      <td>2.000000</td>\n",
       "      <td>1.000000</td>\n",
       "      <td>5.700000e+06</td>\n",
       "      <td>6364.000000</td>\n",
       "    </tr>\n",
       "    <tr>\n",
       "      <th>50%</th>\n",
       "      <td>1200.000000</td>\n",
       "      <td>3.000000</td>\n",
       "      <td>2.000000</td>\n",
       "      <td>1.000000</td>\n",
       "      <td>1.420000e+07</td>\n",
       "      <td>11291.500000</td>\n",
       "    </tr>\n",
       "    <tr>\n",
       "      <th>75%</th>\n",
       "      <td>1700.000000</td>\n",
       "      <td>3.000000</td>\n",
       "      <td>3.000000</td>\n",
       "      <td>2.000000</td>\n",
       "      <td>2.550000e+07</td>\n",
       "      <td>18000.000000</td>\n",
       "    </tr>\n",
       "    <tr>\n",
       "      <th>max</th>\n",
       "      <td>24300.000000</td>\n",
       "      <td>10.000000</td>\n",
       "      <td>7.000000</td>\n",
       "      <td>114.000000</td>\n",
       "      <td>2.400000e+08</td>\n",
       "      <td>183333.000000</td>\n",
       "    </tr>\n",
       "  </tbody>\n",
       "</table>\n",
       "</div>"
      ],
      "text/plain": [
       "               Area          BHK     Bathroom      Parking         Price  \\\n",
       "count   1259.000000  1259.000000  1257.000000  1226.000000  1.259000e+03   \n",
       "mean    1466.452724     2.796664     2.556086     1.935563  2.130670e+07   \n",
       "std     1568.055040     0.954425     1.042220     6.279212  2.560115e+07   \n",
       "min       28.000000     1.000000     1.000000     1.000000  1.000000e+06   \n",
       "25%      800.000000     2.000000     2.000000     1.000000  5.700000e+06   \n",
       "50%     1200.000000     3.000000     2.000000     1.000000  1.420000e+07   \n",
       "75%     1700.000000     3.000000     3.000000     2.000000  2.550000e+07   \n",
       "max    24300.000000    10.000000     7.000000   114.000000  2.400000e+08   \n",
       "\n",
       "            Per_Sqft  \n",
       "count    1018.000000  \n",
       "mean    15690.136542  \n",
       "std     21134.738568  \n",
       "min      1259.000000  \n",
       "25%      6364.000000  \n",
       "50%     11291.500000  \n",
       "75%     18000.000000  \n",
       "max    183333.000000  "
      ]
     },
     "execution_count": 8,
     "metadata": {},
     "output_type": "execute_result"
    }
   ],
   "source": [
    "data.describe()"
   ]
  },
  {
   "cell_type": "code",
   "execution_count": 9,
   "id": "c570fcbc",
   "metadata": {},
   "outputs": [
    {
     "data": {
      "text/plain": [
       "2.0    551\n",
       "3.0    355\n",
       "1.0    146\n",
       "4.0    138\n",
       "5.0     57\n",
       "6.0      7\n",
       "7.0      3\n",
       "Name: Bathroom, dtype: int64"
      ]
     },
     "execution_count": 9,
     "metadata": {},
     "output_type": "execute_result"
    }
   ],
   "source": [
    "data['Bathroom'].value_counts()"
   ]
  },
  {
   "cell_type": "code",
   "execution_count": 10,
   "id": "3d187a09",
   "metadata": {},
   "outputs": [],
   "source": [
    "data['Bathroom'] = data['Bathroom'].fillna(data['Bathroom'].median())"
   ]
  },
  {
   "cell_type": "code",
   "execution_count": 11,
   "id": "7e479065",
   "metadata": {},
   "outputs": [
    {
     "data": {
      "text/plain": [
       "Furnishing\n",
       "Semi-Furnished    708\n",
       "Unfurnished       363\n",
       "Furnished         183\n",
       "Name: count, dtype: int64"
      ]
     },
     "execution_count": 11,
     "metadata": {},
     "output_type": "execute_result"
    }
   ],
   "source": [
    "data['Furnishing'].value_counts()"
   ]
  },
  {
   "cell_type": "code",
   "execution_count": 12,
   "id": "9d859082",
   "metadata": {},
   "outputs": [],
   "source": [
    "data['Furnishing'] = data['Furnishing'].fillna('Semi-Furnished')"
   ]
  },
  {
   "cell_type": "code",
   "execution_count": 13,
   "id": "562138d6",
   "metadata": {},
   "outputs": [
    {
     "data": {
      "text/plain": [
       "Parking\n",
       "1.0      796\n",
       "2.0      341\n",
       "3.0       54\n",
       "4.0       16\n",
       "5.0        7\n",
       "39.0       7\n",
       "114.0      3\n",
       "9.0        1\n",
       "10.0       1\n",
       "Name: count, dtype: int64"
      ]
     },
     "execution_count": 13,
     "metadata": {},
     "output_type": "execute_result"
    }
   ],
   "source": [
    "data['Parking'].value_counts()"
   ]
  },
  {
   "cell_type": "code",
   "execution_count": 14,
   "id": "b3f6be56",
   "metadata": {},
   "outputs": [],
   "source": [
    "data['Parking'] = data['Parking'].fillna(data['Parking'].median())"
   ]
  },
  {
   "cell_type": "code",
   "execution_count": 15,
   "id": "516513b0",
   "metadata": {},
   "outputs": [
    {
     "data": {
      "text/plain": [
       "Per_Sqft\n",
       "12500.0    34\n",
       "3524.0     28\n",
       "6667.0     27\n",
       "14818.0    24\n",
       "6154.0     18\n",
       "           ..\n",
       "18793.0     1\n",
       "19811.0     1\n",
       "20270.0     1\n",
       "16654.0     1\n",
       "20581.0     1\n",
       "Name: count, Length: 251, dtype: int64"
      ]
     },
     "execution_count": 15,
     "metadata": {},
     "output_type": "execute_result"
    }
   ],
   "source": [
    "data['Per_Sqft'].value_counts()"
   ]
  },
  {
   "cell_type": "code",
   "execution_count": 16,
   "id": "3489de32",
   "metadata": {},
   "outputs": [],
   "source": [
    "data['Per_Sqft'] = data['Per_Sqft'].fillna(data['Per_Sqft'].median())"
   ]
  },
  {
   "cell_type": "code",
   "execution_count": 17,
   "id": "9b4dbaeb",
   "metadata": {},
   "outputs": [
    {
     "data": {
      "text/plain": [
       "Type\n",
       "Builder_Floor    661\n",
       "Apartment        593\n",
       "Name: count, dtype: int64"
      ]
     },
     "execution_count": 17,
     "metadata": {},
     "output_type": "execute_result"
    }
   ],
   "source": [
    "data['Type'].value_counts()"
   ]
  },
  {
   "cell_type": "code",
   "execution_count": 18,
   "id": "54894bb1",
   "metadata": {},
   "outputs": [],
   "source": [
    "data['Type'] = data['Type'].fillna('Builder_Floor')"
   ]
  },
  {
   "cell_type": "code",
   "execution_count": 19,
   "id": "fadb8301",
   "metadata": {},
   "outputs": [
    {
     "name": "stdout",
     "output_type": "stream",
     "text": [
      "<class 'pandas.core.frame.DataFrame'>\n",
      "RangeIndex: 1259 entries, 0 to 1258\n",
      "Data columns (total 11 columns):\n",
      " #   Column       Non-Null Count  Dtype  \n",
      "---  ------       --------------  -----  \n",
      " 0   Area         1259 non-null   float64\n",
      " 1   BHK          1259 non-null   int64  \n",
      " 2   Bathroom     1259 non-null   float64\n",
      " 3   Furnishing   1259 non-null   object \n",
      " 4   Locality     1259 non-null   object \n",
      " 5   Parking      1259 non-null   float64\n",
      " 6   Price        1259 non-null   int64  \n",
      " 7   Status       1259 non-null   object \n",
      " 8   Transaction  1259 non-null   object \n",
      " 9   Type         1259 non-null   object \n",
      " 10  Per_Sqft     1259 non-null   float64\n",
      "dtypes: float64(4), int64(2), object(5)\n",
      "memory usage: 108.3+ KB\n"
     ]
    }
   ],
   "source": [
    "data.info()"
   ]
  },
  {
   "cell_type": "code",
   "execution_count": 20,
   "id": "c6c43aaf",
   "metadata": {},
   "outputs": [
    {
     "data": {
      "text/plain": [
       "1239                                    Chittaranjan Park\n",
       "1240                                    Chittaranjan Park\n",
       "1241    Chittaranjan Park carpet area 270 sqyrd status...\n",
       "1242                                    Chittaranjan Park\n",
       "1243                                    Chittaranjan Park\n",
       "1244                               Nehru Enclave, Kalkaji\n",
       "1245                                    Chittaranjan Park\n",
       "1246                                    Chittaranjan Park\n",
       "1247                                    Chittaranjan Park\n",
       "1248                                    Chittaranjan Park\n",
       "1249                                    Chittaranjan Park\n",
       "1250                                    Chittaranjan Park\n",
       "1251                                    Chittaranjan Park\n",
       "1252                               Nehru Enclave, Kalkaji\n",
       "1253                                    Chittaranjan Park\n",
       "1254                                    Chittaranjan Park\n",
       "1255                                    Chittaranjan Park\n",
       "1256                                    Chittaranjan Park\n",
       "1257                            Chittaranjan Park Block A\n",
       "1258                                    Chittaranjan Park\n",
       "Name: Locality, dtype: object"
      ]
     },
     "execution_count": 20,
     "metadata": {},
     "output_type": "execute_result"
    }
   ],
   "source": [
    "data['Locality'].tail(20)"
   ]
  },
  {
   "cell_type": "code",
   "execution_count": 21,
   "id": "b9891128",
   "metadata": {},
   "outputs": [],
   "source": [
    "data['Locality'] = data['Locality'].apply(lambda x: x.strip())"
   ]
  },
  {
   "cell_type": "code",
   "execution_count": 22,
   "id": "cf16eed6",
   "metadata": {},
   "outputs": [],
   "source": [
    "location_count = data['Locality'].value_counts()"
   ]
  },
  {
   "cell_type": "code",
   "execution_count": 23,
   "id": "125b6dbe",
   "metadata": {},
   "outputs": [
    {
     "data": {
      "text/plain": [
       "Locality\n",
       "Govindpuri Extension, Kalkaji                                                                                                                                                                                                                                                                                                                                                                                                                                                                                                                                                                                                                   9\n",
       "Uttam Nagar                                                                                                                                                                                                                                                                                                                                                                                                                                                                                                                                                                                                                                     9\n",
       "Narela                                                                                                                                                                                                                                                                                                                                                                                                                                                                                                                                                                                                                                          9\n",
       "DDA Lig Flats, Narela                                                                                                                                                                                                                                                                                                                                                                                                                                                                                                                                                                                                                           9\n",
       "Punjabi Bagh West                                                                                                                                                                                                                                                                                                                                                                                                                                                                                                                                                                                                                               9\n",
       "                                                                                                                                                                                                                                                                                                                                                                                                                                                                                                                                                                                                                                               ..\n",
       "Safdarjung Enclave carpet area 3250 sqft status Ready to Move floor 1 out of 4 floors transaction Resale furnishing Semi-Furnished facing North - East overlooking Garden/Park, Main Road car parking 1 Covered bathroom 4 balcony 3 ownership Freehold Near Buy Green park Metro station. The location of the property is Awesome and Peaceful. The construction is very Highend and Very tasteful Done-up. The Same property is location on the FF. 4 Side corner read more Contact Agent Enquire Now Share Feedback Crisil Silver Agent Findahouse Real Estate Consultants LLP 2000+ Buyers Served                                           1\n",
       "Safdarjung Enclave carpet area 290 sqyrd status Ready to Move floor 2 out of 3 floors transaction Resale furnishing Semi-Furnished facing West overlooking Main Road car parking 2 Open bathroom 4 balcony 3 ownership Freehold Opposite Deer Park.The property comes with independent Terrace. The area is centrally located and close to ring road which allows easy acess to all other areas.Renowned Delhi Lawn Tennis Association is within 10 minutes walking distance.Green park market is walkable distance. read more Contact Owner View Phone No. Share Feedback Owner Hemant pajankar                                                1\n",
       "Safdarjung Enclave carpet area 1450 sqft status Ready to Move floor 3 out of 4 floors transaction Resale furnishing Semi-Furnished facing North - East overlooking Garden/Park, Main Road car parking 1 Covered, 1 Open bathroom 3 balcony 2 ownership Freehold Park facing builder floor apartment available for sale in safderjung enclave, 3 bedroom with attached bathroom, drawing dinning, modular kitchen. the property is on the top floor of a four storey building with terrace right, servant quarter, 1 car parking in stilt. read more Contact Agent View Phone No. Share Feedback Agent Delhi Homes Realty 1000+ Buyers Served    1\n",
       "Safdarjung Enclave super area 2200 sqft status Ready to Move floor 2 out of 4 floors transaction New Property furnishing Semi-Furnished facing South overlooking Main Road car parking 3 Covered, 2 Open bathroom 4 balcony 3 ownership Freehold Newly Constructed Property Wide Road 450 Yards 2nd floor brand new 4 bhk attached bathrooms with full lighted and ventilated house.Most Valuable DealSEE TO BELIEVE read more Contact Agent View Phone No. Share Feedback Crisil Bronze Agent Panchsheel Homes 500+ Buyers Served                                                                                                              1\n",
       "Chittaranjan Park Block A                                                                                                                                                                                                                                                                                                                                                                                                                                                                                                                                                                                                                       1\n",
       "Name: count, Length: 333, dtype: int64"
      ]
     },
     "execution_count": 23,
     "metadata": {},
     "output_type": "execute_result"
    }
   ],
   "source": [
    "location_count_less10 = location_count[location_count<10]\n",
    "location_count_less10"
   ]
  },
  {
   "cell_type": "code",
   "execution_count": 24,
   "id": "59f8b05a",
   "metadata": {},
   "outputs": [],
   "source": [
    "data['Locality'] = data['Locality'].apply(lambda x : 'other' if x in location_count_less10 else x)"
   ]
  },
  {
   "cell_type": "code",
   "execution_count": 25,
   "id": "26c22d8e",
   "metadata": {},
   "outputs": [
    {
     "data": {
      "text/plain": [
       "Locality\n",
       "other                                                           687\n",
       "Lajpat Nagar 3                                                   34\n",
       "Lajpat Nagar 2                                                   33\n",
       "J R Designers Floors, Rohini Sector 24                           31\n",
       "Kailash Colony, Greater Kailash                                  30\n",
       "Yamuna Vihar, Shahdara                                           29\n",
       "Laxmi Nagar                                                      25\n",
       "Mehrauli                                                         24\n",
       "Chittaranjan Park                                                24\n",
       "Saket                                                            21\n",
       "Alaknanda                                                        20\n",
       "DDA Flats Sarita Vihar, Sarita Vihar, Mathura Road               19\n",
       "Safdarjung Enclave                                               18\n",
       "Chhattarpur                                                      17\n",
       "The Amaryllis, Karol Bagh                                        17\n",
       "Sheikh Sarai Phase 1                                             17\n",
       "Dilshad Colony, Dilshad Garden                                   16\n",
       "Mahavir Enclave Part 1                                           15\n",
       "Common Wealth Games Village, Commonwealth Games Village 2010     15\n",
       "Patel Nagar West                                                 15\n",
       "DLF Capital Greens, New Moti Nagar, Kirti Nagar                  14\n",
       "New Moti Nagar, Kirti Nagar                                      14\n",
       "New Friends Colony                                               14\n",
       "Malviya Nagar                                                    13\n",
       "Sukhdev Vihar, Okhla                                             12\n",
       "Vasundhara Enclave                                               12\n",
       "Hauz Khas                                                        12\n",
       "New Manglapuri, Sultanpur                                        11\n",
       "Narmada Apartment, Alaknanda                                     10\n",
       "Vasant Kunj                                                      10\n",
       "Rohini Sector 24                                                 10\n",
       "Mahavir Enclave                                                  10\n",
       "The Leela Sky Villas, Patel Nagar                                10\n",
       "Name: count, dtype: int64"
      ]
     },
     "execution_count": 25,
     "metadata": {},
     "output_type": "execute_result"
    }
   ],
   "source": [
    "data['Locality'].value_counts()"
   ]
  },
  {
   "cell_type": "code",
   "execution_count": 26,
   "id": "71a4d51e",
   "metadata": {},
   "outputs": [
    {
     "data": {
      "text/html": [
       "<div>\n",
       "<style scoped>\n",
       "    .dataframe tbody tr th:only-of-type {\n",
       "        vertical-align: middle;\n",
       "    }\n",
       "\n",
       "    .dataframe tbody tr th {\n",
       "        vertical-align: top;\n",
       "    }\n",
       "\n",
       "    .dataframe thead th {\n",
       "        text-align: right;\n",
       "    }\n",
       "</style>\n",
       "<table border=\"1\" class=\"dataframe\">\n",
       "  <thead>\n",
       "    <tr style=\"text-align: right;\">\n",
       "      <th></th>\n",
       "      <th>Area</th>\n",
       "      <th>BHK</th>\n",
       "      <th>Bathroom</th>\n",
       "      <th>Parking</th>\n",
       "      <th>Price</th>\n",
       "      <th>Per_Sqft</th>\n",
       "    </tr>\n",
       "  </thead>\n",
       "  <tbody>\n",
       "    <tr>\n",
       "      <th>count</th>\n",
       "      <td>1259.000000</td>\n",
       "      <td>1259.000000</td>\n",
       "      <td>1259.000000</td>\n",
       "      <td>1259.000000</td>\n",
       "      <td>1.259000e+03</td>\n",
       "      <td>1259.000000</td>\n",
       "    </tr>\n",
       "    <tr>\n",
       "      <th>mean</th>\n",
       "      <td>1466.452724</td>\n",
       "      <td>2.796664</td>\n",
       "      <td>2.555203</td>\n",
       "      <td>1.911041</td>\n",
       "      <td>2.130670e+07</td>\n",
       "      <td>14848.141779</td>\n",
       "    </tr>\n",
       "    <tr>\n",
       "      <th>std</th>\n",
       "      <td>1568.055040</td>\n",
       "      <td>0.954425</td>\n",
       "      <td>1.041627</td>\n",
       "      <td>6.198110</td>\n",
       "      <td>2.560115e+07</td>\n",
       "      <td>19081.470810</td>\n",
       "    </tr>\n",
       "    <tr>\n",
       "      <th>min</th>\n",
       "      <td>28.000000</td>\n",
       "      <td>1.000000</td>\n",
       "      <td>1.000000</td>\n",
       "      <td>1.000000</td>\n",
       "      <td>1.000000e+06</td>\n",
       "      <td>1259.000000</td>\n",
       "    </tr>\n",
       "    <tr>\n",
       "      <th>25%</th>\n",
       "      <td>800.000000</td>\n",
       "      <td>2.000000</td>\n",
       "      <td>2.000000</td>\n",
       "      <td>1.000000</td>\n",
       "      <td>5.700000e+06</td>\n",
       "      <td>6714.000000</td>\n",
       "    </tr>\n",
       "    <tr>\n",
       "      <th>50%</th>\n",
       "      <td>1200.000000</td>\n",
       "      <td>3.000000</td>\n",
       "      <td>2.000000</td>\n",
       "      <td>1.000000</td>\n",
       "      <td>1.420000e+07</td>\n",
       "      <td>11291.500000</td>\n",
       "    </tr>\n",
       "    <tr>\n",
       "      <th>75%</th>\n",
       "      <td>1700.000000</td>\n",
       "      <td>3.000000</td>\n",
       "      <td>3.000000</td>\n",
       "      <td>2.000000</td>\n",
       "      <td>2.550000e+07</td>\n",
       "      <td>15459.000000</td>\n",
       "    </tr>\n",
       "    <tr>\n",
       "      <th>max</th>\n",
       "      <td>24300.000000</td>\n",
       "      <td>10.000000</td>\n",
       "      <td>7.000000</td>\n",
       "      <td>114.000000</td>\n",
       "      <td>2.400000e+08</td>\n",
       "      <td>183333.000000</td>\n",
       "    </tr>\n",
       "  </tbody>\n",
       "</table>\n",
       "</div>"
      ],
      "text/plain": [
       "               Area          BHK     Bathroom      Parking         Price  \\\n",
       "count   1259.000000  1259.000000  1259.000000  1259.000000  1.259000e+03   \n",
       "mean    1466.452724     2.796664     2.555203     1.911041  2.130670e+07   \n",
       "std     1568.055040     0.954425     1.041627     6.198110  2.560115e+07   \n",
       "min       28.000000     1.000000     1.000000     1.000000  1.000000e+06   \n",
       "25%      800.000000     2.000000     2.000000     1.000000  5.700000e+06   \n",
       "50%     1200.000000     3.000000     2.000000     1.000000  1.420000e+07   \n",
       "75%     1700.000000     3.000000     3.000000     2.000000  2.550000e+07   \n",
       "max    24300.000000    10.000000     7.000000   114.000000  2.400000e+08   \n",
       "\n",
       "            Per_Sqft  \n",
       "count    1259.000000  \n",
       "mean    14848.141779  \n",
       "std     19081.470810  \n",
       "min      1259.000000  \n",
       "25%      6714.000000  \n",
       "50%     11291.500000  \n",
       "75%     15459.000000  \n",
       "max    183333.000000  "
      ]
     },
     "execution_count": 26,
     "metadata": {},
     "output_type": "execute_result"
    }
   ],
   "source": [
    "data.describe()"
   ]
  },
  {
   "cell_type": "code",
   "execution_count": 27,
   "id": "4afb7cb2",
   "metadata": {},
   "outputs": [
    {
     "data": {
      "text/plain": [
       "count    1259.000000\n",
       "mean      501.167417\n",
       "std       416.755438\n",
       "min        11.250000\n",
       "25%       350.000000\n",
       "50%       450.000000\n",
       "75%       551.250000\n",
       "max      6075.000000\n",
       "dtype: float64"
      ]
     },
     "execution_count": 27,
     "metadata": {},
     "output_type": "execute_result"
    }
   ],
   "source": [
    "(data['Area']/data['BHK']).describe()"
   ]
  },
  {
   "cell_type": "code",
   "execution_count": 28,
   "id": "8f3d6ad2",
   "metadata": {},
   "outputs": [
    {
     "data": {
      "text/html": [
       "<div>\n",
       "<style scoped>\n",
       "    .dataframe tbody tr th:only-of-type {\n",
       "        vertical-align: middle;\n",
       "    }\n",
       "\n",
       "    .dataframe tbody tr th {\n",
       "        vertical-align: top;\n",
       "    }\n",
       "\n",
       "    .dataframe thead th {\n",
       "        text-align: right;\n",
       "    }\n",
       "</style>\n",
       "<table border=\"1\" class=\"dataframe\">\n",
       "  <thead>\n",
       "    <tr style=\"text-align: right;\">\n",
       "      <th></th>\n",
       "      <th>Area</th>\n",
       "      <th>BHK</th>\n",
       "      <th>Bathroom</th>\n",
       "      <th>Parking</th>\n",
       "      <th>Price</th>\n",
       "      <th>Per_Sqft</th>\n",
       "    </tr>\n",
       "  </thead>\n",
       "  <tbody>\n",
       "    <tr>\n",
       "      <th>count</th>\n",
       "      <td>1170.000000</td>\n",
       "      <td>1170.000000</td>\n",
       "      <td>1170.000000</td>\n",
       "      <td>1170.000000</td>\n",
       "      <td>1.170000e+03</td>\n",
       "      <td>1170.000000</td>\n",
       "    </tr>\n",
       "    <tr>\n",
       "      <th>mean</th>\n",
       "      <td>1547.146705</td>\n",
       "      <td>2.806838</td>\n",
       "      <td>2.605983</td>\n",
       "      <td>1.903419</td>\n",
       "      <td>2.239960e+07</td>\n",
       "      <td>14591.292308</td>\n",
       "    </tr>\n",
       "    <tr>\n",
       "      <th>std</th>\n",
       "      <td>1596.508581</td>\n",
       "      <td>0.923204</td>\n",
       "      <td>1.030484</td>\n",
       "      <td>6.239728</td>\n",
       "      <td>2.616146e+07</td>\n",
       "      <td>18605.234164</td>\n",
       "    </tr>\n",
       "    <tr>\n",
       "      <th>min</th>\n",
       "      <td>270.000000</td>\n",
       "      <td>1.000000</td>\n",
       "      <td>1.000000</td>\n",
       "      <td>1.000000</td>\n",
       "      <td>1.000000e+06</td>\n",
       "      <td>1259.000000</td>\n",
       "    </tr>\n",
       "    <tr>\n",
       "      <th>25%</th>\n",
       "      <td>900.000000</td>\n",
       "      <td>2.000000</td>\n",
       "      <td>2.000000</td>\n",
       "      <td>1.000000</td>\n",
       "      <td>6.225000e+06</td>\n",
       "      <td>6894.500000</td>\n",
       "    </tr>\n",
       "    <tr>\n",
       "      <th>50%</th>\n",
       "      <td>1270.000000</td>\n",
       "      <td>3.000000</td>\n",
       "      <td>2.000000</td>\n",
       "      <td>1.000000</td>\n",
       "      <td>1.500000e+07</td>\n",
       "      <td>11291.500000</td>\n",
       "    </tr>\n",
       "    <tr>\n",
       "      <th>75%</th>\n",
       "      <td>1700.000000</td>\n",
       "      <td>3.000000</td>\n",
       "      <td>3.000000</td>\n",
       "      <td>2.000000</td>\n",
       "      <td>2.637500e+07</td>\n",
       "      <td>15459.000000</td>\n",
       "    </tr>\n",
       "    <tr>\n",
       "      <th>max</th>\n",
       "      <td>24300.000000</td>\n",
       "      <td>7.000000</td>\n",
       "      <td>7.000000</td>\n",
       "      <td>114.000000</td>\n",
       "      <td>2.400000e+08</td>\n",
       "      <td>183333.000000</td>\n",
       "    </tr>\n",
       "  </tbody>\n",
       "</table>\n",
       "</div>"
      ],
      "text/plain": [
       "               Area          BHK     Bathroom      Parking         Price  \\\n",
       "count   1170.000000  1170.000000  1170.000000  1170.000000  1.170000e+03   \n",
       "mean    1547.146705     2.806838     2.605983     1.903419  2.239960e+07   \n",
       "std     1596.508581     0.923204     1.030484     6.239728  2.616146e+07   \n",
       "min      270.000000     1.000000     1.000000     1.000000  1.000000e+06   \n",
       "25%      900.000000     2.000000     2.000000     1.000000  6.225000e+06   \n",
       "50%     1270.000000     3.000000     2.000000     1.000000  1.500000e+07   \n",
       "75%     1700.000000     3.000000     3.000000     2.000000  2.637500e+07   \n",
       "max    24300.000000     7.000000     7.000000   114.000000  2.400000e+08   \n",
       "\n",
       "            Per_Sqft  \n",
       "count    1170.000000  \n",
       "mean    14591.292308  \n",
       "std     18605.234164  \n",
       "min      1259.000000  \n",
       "25%      6894.500000  \n",
       "50%     11291.500000  \n",
       "75%     15459.000000  \n",
       "max    183333.000000  "
      ]
     },
     "execution_count": 28,
     "metadata": {},
     "output_type": "execute_result"
    }
   ],
   "source": [
    "data = data[((data['Area']/data['BHK'])>=250)]\n",
    "data.describe()"
   ]
  },
  {
   "cell_type": "code",
   "execution_count": 29,
   "id": "993525df",
   "metadata": {},
   "outputs": [
    {
     "data": {
      "text/plain": [
       "(1170, 11)"
      ]
     },
     "execution_count": 29,
     "metadata": {},
     "output_type": "execute_result"
    }
   ],
   "source": [
    "data.shape"
   ]
  },
  {
   "cell_type": "code",
   "execution_count": 30,
   "id": "554cea8b",
   "metadata": {},
   "outputs": [
    {
     "data": {
      "text/plain": [
       "count      1170.000000\n",
       "mean      14591.292308\n",
       "std       18605.234164\n",
       "min        1259.000000\n",
       "25%        6894.500000\n",
       "50%       11291.500000\n",
       "75%       15459.000000\n",
       "max      183333.000000\n",
       "Name: Per_Sqft, dtype: float64"
      ]
     },
     "execution_count": 30,
     "metadata": {},
     "output_type": "execute_result"
    }
   ],
   "source": [
    "data.Per_Sqft.describe()"
   ]
  },
  {
   "cell_type": "code",
   "execution_count": 31,
   "id": "20571289",
   "metadata": {},
   "outputs": [
    {
     "data": {
      "text/html": [
       "<div>\n",
       "<style scoped>\n",
       "    .dataframe tbody tr th:only-of-type {\n",
       "        vertical-align: middle;\n",
       "    }\n",
       "\n",
       "    .dataframe tbody tr th {\n",
       "        vertical-align: top;\n",
       "    }\n",
       "\n",
       "    .dataframe thead th {\n",
       "        text-align: right;\n",
       "    }\n",
       "</style>\n",
       "<table border=\"1\" class=\"dataframe\">\n",
       "  <thead>\n",
       "    <tr style=\"text-align: right;\">\n",
       "      <th></th>\n",
       "      <th>Area</th>\n",
       "      <th>BHK</th>\n",
       "      <th>Bathroom</th>\n",
       "      <th>Parking</th>\n",
       "      <th>Price</th>\n",
       "      <th>Per_Sqft</th>\n",
       "    </tr>\n",
       "  </thead>\n",
       "  <tbody>\n",
       "    <tr>\n",
       "      <th>count</th>\n",
       "      <td>998.000000</td>\n",
       "      <td>998.000000</td>\n",
       "      <td>998.000000</td>\n",
       "      <td>998.000000</td>\n",
       "      <td>9.980000e+02</td>\n",
       "      <td>998.000000</td>\n",
       "    </tr>\n",
       "    <tr>\n",
       "      <th>mean</th>\n",
       "      <td>1562.296250</td>\n",
       "      <td>2.806613</td>\n",
       "      <td>2.601202</td>\n",
       "      <td>1.940882</td>\n",
       "      <td>2.219876e+07</td>\n",
       "      <td>11847.626253</td>\n",
       "    </tr>\n",
       "    <tr>\n",
       "      <th>std</th>\n",
       "      <td>1681.268253</td>\n",
       "      <td>0.928581</td>\n",
       "      <td>1.033675</td>\n",
       "      <td>6.743436</td>\n",
       "      <td>2.558437e+07</td>\n",
       "      <td>6146.520530</td>\n",
       "    </tr>\n",
       "    <tr>\n",
       "      <th>min</th>\n",
       "      <td>270.000000</td>\n",
       "      <td>1.000000</td>\n",
       "      <td>1.000000</td>\n",
       "      <td>1.000000</td>\n",
       "      <td>1.000000e+06</td>\n",
       "      <td>1259.000000</td>\n",
       "    </tr>\n",
       "    <tr>\n",
       "      <th>25%</th>\n",
       "      <td>882.500000</td>\n",
       "      <td>2.000000</td>\n",
       "      <td>2.000000</td>\n",
       "      <td>1.000000</td>\n",
       "      <td>6.200000e+06</td>\n",
       "      <td>6667.000000</td>\n",
       "    </tr>\n",
       "    <tr>\n",
       "      <th>50%</th>\n",
       "      <td>1280.000000</td>\n",
       "      <td>3.000000</td>\n",
       "      <td>2.000000</td>\n",
       "      <td>1.000000</td>\n",
       "      <td>1.500000e+07</td>\n",
       "      <td>11291.500000</td>\n",
       "    </tr>\n",
       "    <tr>\n",
       "      <th>75%</th>\n",
       "      <td>1710.000000</td>\n",
       "      <td>3.000000</td>\n",
       "      <td>3.000000</td>\n",
       "      <td>2.000000</td>\n",
       "      <td>2.600000e+07</td>\n",
       "      <td>14818.000000</td>\n",
       "    </tr>\n",
       "    <tr>\n",
       "      <th>max</th>\n",
       "      <td>24300.000000</td>\n",
       "      <td>7.000000</td>\n",
       "      <td>7.000000</td>\n",
       "      <td>114.000000</td>\n",
       "      <td>2.400000e+08</td>\n",
       "      <td>30556.000000</td>\n",
       "    </tr>\n",
       "  </tbody>\n",
       "</table>\n",
       "</div>"
      ],
      "text/plain": [
       "               Area         BHK    Bathroom     Parking         Price  \\\n",
       "count    998.000000  998.000000  998.000000  998.000000  9.980000e+02   \n",
       "mean    1562.296250    2.806613    2.601202    1.940882  2.219876e+07   \n",
       "std     1681.268253    0.928581    1.033675    6.743436  2.558437e+07   \n",
       "min      270.000000    1.000000    1.000000    1.000000  1.000000e+06   \n",
       "25%      882.500000    2.000000    2.000000    1.000000  6.200000e+06   \n",
       "50%     1280.000000    3.000000    2.000000    1.000000  1.500000e+07   \n",
       "75%     1710.000000    3.000000    3.000000    2.000000  2.600000e+07   \n",
       "max    24300.000000    7.000000    7.000000  114.000000  2.400000e+08   \n",
       "\n",
       "           Per_Sqft  \n",
       "count    998.000000  \n",
       "mean   11847.626253  \n",
       "std     6146.520530  \n",
       "min     1259.000000  \n",
       "25%     6667.000000  \n",
       "50%    11291.500000  \n",
       "75%    14818.000000  \n",
       "max    30556.000000  "
      ]
     },
     "execution_count": 31,
     "metadata": {},
     "output_type": "execute_result"
    }
   ],
   "source": [
    "def remove_outlier_sqft(df):\n",
    "    df_output = pd.DataFrame()\n",
    "    for key,subdf in df.groupby('Locality'):\n",
    "        m = np.mean(subdf.Per_Sqft)\n",
    "        \n",
    "        st = np.std(subdf.Per_Sqft)\n",
    "        \n",
    "        gen_df = subdf[(subdf.Per_Sqft > (m-st)) & (subdf.Per_Sqft <= (m+st))]\n",
    "        \n",
    "        df_output = pd.concat([df_output,gen_df],ignore_index=True)\n",
    "        \n",
    "    return df_output\n",
    "\n",
    "data = remove_outlier_sqft(data)\n",
    "data.describe()"
   ]
  },
  {
   "cell_type": "code",
   "execution_count": 32,
   "id": "93fb3ba0",
   "metadata": {},
   "outputs": [],
   "source": [
    "def remove_bhk_outliers(df):\n",
    "    exclude_indices = np.array([])\n",
    "    for location, location_df in df.groupby('Locality'):\n",
    "        bhk_stats = {}\n",
    "        for bhk, bhk_df in location_df.groupby('BHK'):\n",
    "            bhk_stats[bhk] = {\n",
    "                'mean': np.mean(bhk_df.Per_Sqft),\n",
    "                'std': np.std(bhk_df.Per_Sqft),\n",
    "                'count': bhk_df.shape[0]\n",
    "            }\n",
    "        for bhk, bhk_df in location_df.groupby('BHK'):\n",
    "            stats = bhk_stats.get(bhk-1)\n",
    "            if stats and stats['count']>5:\n",
    "                exclude_indices = np.append(exclude_indices, bhk_df[bhk_df.Per_Sqft<(stats['mean'])].index.values)\n",
    "    return df.drop(exclude_indices,axis='index')"
   ]
  },
  {
   "cell_type": "code",
   "execution_count": 33,
   "id": "0e320512",
   "metadata": {},
   "outputs": [],
   "source": [
    "data = remove_bhk_outliers(data)"
   ]
  },
  {
   "cell_type": "code",
   "execution_count": 34,
   "id": "0a2c07b6",
   "metadata": {},
   "outputs": [
    {
     "data": {
      "text/plain": [
       "(726, 11)"
      ]
     },
     "execution_count": 34,
     "metadata": {},
     "output_type": "execute_result"
    }
   ],
   "source": [
    "data.shape"
   ]
  },
  {
   "cell_type": "code",
   "execution_count": 35,
   "id": "7b9af9e0",
   "metadata": {},
   "outputs": [
    {
     "data": {
      "text/html": [
       "<div>\n",
       "<style scoped>\n",
       "    .dataframe tbody tr th:only-of-type {\n",
       "        vertical-align: middle;\n",
       "    }\n",
       "\n",
       "    .dataframe tbody tr th {\n",
       "        vertical-align: top;\n",
       "    }\n",
       "\n",
       "    .dataframe thead th {\n",
       "        text-align: right;\n",
       "    }\n",
       "</style>\n",
       "<table border=\"1\" class=\"dataframe\">\n",
       "  <thead>\n",
       "    <tr style=\"text-align: right;\">\n",
       "      <th></th>\n",
       "      <th>Area</th>\n",
       "      <th>BHK</th>\n",
       "      <th>Bathroom</th>\n",
       "      <th>Furnishing</th>\n",
       "      <th>Locality</th>\n",
       "      <th>Parking</th>\n",
       "      <th>Price</th>\n",
       "      <th>Status</th>\n",
       "      <th>Transaction</th>\n",
       "      <th>Type</th>\n",
       "      <th>Per_Sqft</th>\n",
       "    </tr>\n",
       "  </thead>\n",
       "  <tbody>\n",
       "    <tr>\n",
       "      <th>0</th>\n",
       "      <td>1400.0</td>\n",
       "      <td>3</td>\n",
       "      <td>2.0</td>\n",
       "      <td>Unfurnished</td>\n",
       "      <td>Alaknanda</td>\n",
       "      <td>1.0</td>\n",
       "      <td>19000000</td>\n",
       "      <td>Ready_to_move</td>\n",
       "      <td>Resale</td>\n",
       "      <td>Apartment</td>\n",
       "      <td>12500.0</td>\n",
       "    </tr>\n",
       "    <tr>\n",
       "      <th>1</th>\n",
       "      <td>1100.0</td>\n",
       "      <td>2</td>\n",
       "      <td>2.0</td>\n",
       "      <td>Unfurnished</td>\n",
       "      <td>Alaknanda</td>\n",
       "      <td>2.0</td>\n",
       "      <td>15000000</td>\n",
       "      <td>Ready_to_move</td>\n",
       "      <td>Resale</td>\n",
       "      <td>Apartment</td>\n",
       "      <td>12500.0</td>\n",
       "    </tr>\n",
       "    <tr>\n",
       "      <th>2</th>\n",
       "      <td>1200.0</td>\n",
       "      <td>2</td>\n",
       "      <td>2.0</td>\n",
       "      <td>Semi-Furnished</td>\n",
       "      <td>Alaknanda</td>\n",
       "      <td>2.0</td>\n",
       "      <td>17500000</td>\n",
       "      <td>Ready_to_move</td>\n",
       "      <td>Resale</td>\n",
       "      <td>Apartment</td>\n",
       "      <td>12500.0</td>\n",
       "    </tr>\n",
       "    <tr>\n",
       "      <th>3</th>\n",
       "      <td>1400.0</td>\n",
       "      <td>2</td>\n",
       "      <td>2.0</td>\n",
       "      <td>Semi-Furnished</td>\n",
       "      <td>Alaknanda</td>\n",
       "      <td>2.0</td>\n",
       "      <td>14000000</td>\n",
       "      <td>Ready_to_move</td>\n",
       "      <td>Resale</td>\n",
       "      <td>Apartment</td>\n",
       "      <td>12500.0</td>\n",
       "    </tr>\n",
       "    <tr>\n",
       "      <th>4</th>\n",
       "      <td>1320.0</td>\n",
       "      <td>3</td>\n",
       "      <td>2.0</td>\n",
       "      <td>Unfurnished</td>\n",
       "      <td>Alaknanda</td>\n",
       "      <td>2.0</td>\n",
       "      <td>15600000</td>\n",
       "      <td>Ready_to_move</td>\n",
       "      <td>Resale</td>\n",
       "      <td>Apartment</td>\n",
       "      <td>12500.0</td>\n",
       "    </tr>\n",
       "    <tr>\n",
       "      <th>...</th>\n",
       "      <td>...</td>\n",
       "      <td>...</td>\n",
       "      <td>...</td>\n",
       "      <td>...</td>\n",
       "      <td>...</td>\n",
       "      <td>...</td>\n",
       "      <td>...</td>\n",
       "      <td>...</td>\n",
       "      <td>...</td>\n",
       "      <td>...</td>\n",
       "      <td>...</td>\n",
       "    </tr>\n",
       "    <tr>\n",
       "      <th>992</th>\n",
       "      <td>1250.0</td>\n",
       "      <td>3</td>\n",
       "      <td>3.0</td>\n",
       "      <td>Semi-Furnished</td>\n",
       "      <td>other</td>\n",
       "      <td>1.0</td>\n",
       "      <td>25500000</td>\n",
       "      <td>Almost_ready</td>\n",
       "      <td>New_Property</td>\n",
       "      <td>Builder_Floor</td>\n",
       "      <td>11291.5</td>\n",
       "    </tr>\n",
       "    <tr>\n",
       "      <th>993</th>\n",
       "      <td>1200.0</td>\n",
       "      <td>3</td>\n",
       "      <td>3.0</td>\n",
       "      <td>Semi-Furnished</td>\n",
       "      <td>other</td>\n",
       "      <td>1.0</td>\n",
       "      <td>22200000</td>\n",
       "      <td>Ready_to_move</td>\n",
       "      <td>New_Property</td>\n",
       "      <td>Builder_Floor</td>\n",
       "      <td>18333.0</td>\n",
       "    </tr>\n",
       "    <tr>\n",
       "      <th>994</th>\n",
       "      <td>2430.0</td>\n",
       "      <td>4</td>\n",
       "      <td>4.0</td>\n",
       "      <td>Furnished</td>\n",
       "      <td>other</td>\n",
       "      <td>5.0</td>\n",
       "      <td>30000000</td>\n",
       "      <td>Ready_to_move</td>\n",
       "      <td>Resale</td>\n",
       "      <td>Builder_Floor</td>\n",
       "      <td>18333.0</td>\n",
       "    </tr>\n",
       "    <tr>\n",
       "      <th>996</th>\n",
       "      <td>1800.0</td>\n",
       "      <td>3</td>\n",
       "      <td>3.0</td>\n",
       "      <td>Semi-Furnished</td>\n",
       "      <td>other</td>\n",
       "      <td>1.0</td>\n",
       "      <td>26000000</td>\n",
       "      <td>Ready_to_move</td>\n",
       "      <td>Resale</td>\n",
       "      <td>Builder_Floor</td>\n",
       "      <td>12916.0</td>\n",
       "    </tr>\n",
       "    <tr>\n",
       "      <th>997</th>\n",
       "      <td>990.0</td>\n",
       "      <td>2</td>\n",
       "      <td>2.0</td>\n",
       "      <td>Unfurnished</td>\n",
       "      <td>other</td>\n",
       "      <td>1.0</td>\n",
       "      <td>11500000</td>\n",
       "      <td>Ready_to_move</td>\n",
       "      <td>Resale</td>\n",
       "      <td>Builder_Floor</td>\n",
       "      <td>12916.0</td>\n",
       "    </tr>\n",
       "  </tbody>\n",
       "</table>\n",
       "<p>726 rows × 11 columns</p>\n",
       "</div>"
      ],
      "text/plain": [
       "       Area  BHK  Bathroom      Furnishing   Locality  Parking     Price  \\\n",
       "0    1400.0    3       2.0     Unfurnished  Alaknanda      1.0  19000000   \n",
       "1    1100.0    2       2.0     Unfurnished  Alaknanda      2.0  15000000   \n",
       "2    1200.0    2       2.0  Semi-Furnished  Alaknanda      2.0  17500000   \n",
       "3    1400.0    2       2.0  Semi-Furnished  Alaknanda      2.0  14000000   \n",
       "4    1320.0    3       2.0     Unfurnished  Alaknanda      2.0  15600000   \n",
       "..      ...  ...       ...             ...        ...      ...       ...   \n",
       "992  1250.0    3       3.0  Semi-Furnished      other      1.0  25500000   \n",
       "993  1200.0    3       3.0  Semi-Furnished      other      1.0  22200000   \n",
       "994  2430.0    4       4.0       Furnished      other      5.0  30000000   \n",
       "996  1800.0    3       3.0  Semi-Furnished      other      1.0  26000000   \n",
       "997   990.0    2       2.0     Unfurnished      other      1.0  11500000   \n",
       "\n",
       "            Status   Transaction           Type  Per_Sqft  \n",
       "0    Ready_to_move        Resale      Apartment   12500.0  \n",
       "1    Ready_to_move        Resale      Apartment   12500.0  \n",
       "2    Ready_to_move        Resale      Apartment   12500.0  \n",
       "3    Ready_to_move        Resale      Apartment   12500.0  \n",
       "4    Ready_to_move        Resale      Apartment   12500.0  \n",
       "..             ...           ...            ...       ...  \n",
       "992   Almost_ready  New_Property  Builder_Floor   11291.5  \n",
       "993  Ready_to_move  New_Property  Builder_Floor   18333.0  \n",
       "994  Ready_to_move        Resale  Builder_Floor   18333.0  \n",
       "996  Ready_to_move        Resale  Builder_Floor   12916.0  \n",
       "997  Ready_to_move        Resale  Builder_Floor   12916.0  \n",
       "\n",
       "[726 rows x 11 columns]"
      ]
     },
     "execution_count": 35,
     "metadata": {},
     "output_type": "execute_result"
    }
   ],
   "source": [
    "data"
   ]
  },
  {
   "cell_type": "code",
   "execution_count": 36,
   "id": "34f2e227",
   "metadata": {},
   "outputs": [],
   "source": [
    "# data.drop(columns=['Parking','Status'],inplace = True)\n",
    "data.drop(columns=['Parking','Status','Transaction','Type','Furnishing'],inplace = True)"
   ]
  },
  {
   "cell_type": "code",
   "execution_count": 37,
   "id": "8a096e79",
   "metadata": {},
   "outputs": [],
   "source": [
    "# data['Furnishing'] = data['Furnishing'].str.replace('-',' ')"
   ]
  },
  {
   "cell_type": "code",
   "execution_count": 38,
   "id": "311fc297",
   "metadata": {},
   "outputs": [
    {
     "data": {
      "text/html": [
       "<div>\n",
       "<style scoped>\n",
       "    .dataframe tbody tr th:only-of-type {\n",
       "        vertical-align: middle;\n",
       "    }\n",
       "\n",
       "    .dataframe tbody tr th {\n",
       "        vertical-align: top;\n",
       "    }\n",
       "\n",
       "    .dataframe thead th {\n",
       "        text-align: right;\n",
       "    }\n",
       "</style>\n",
       "<table border=\"1\" class=\"dataframe\">\n",
       "  <thead>\n",
       "    <tr style=\"text-align: right;\">\n",
       "      <th></th>\n",
       "      <th>Area</th>\n",
       "      <th>BHK</th>\n",
       "      <th>Bathroom</th>\n",
       "      <th>Locality</th>\n",
       "      <th>Price</th>\n",
       "      <th>Per_Sqft</th>\n",
       "    </tr>\n",
       "  </thead>\n",
       "  <tbody>\n",
       "    <tr>\n",
       "      <th>0</th>\n",
       "      <td>1400.0</td>\n",
       "      <td>3</td>\n",
       "      <td>2.0</td>\n",
       "      <td>Alaknanda</td>\n",
       "      <td>19000000</td>\n",
       "      <td>12500.0</td>\n",
       "    </tr>\n",
       "    <tr>\n",
       "      <th>1</th>\n",
       "      <td>1100.0</td>\n",
       "      <td>2</td>\n",
       "      <td>2.0</td>\n",
       "      <td>Alaknanda</td>\n",
       "      <td>15000000</td>\n",
       "      <td>12500.0</td>\n",
       "    </tr>\n",
       "    <tr>\n",
       "      <th>2</th>\n",
       "      <td>1200.0</td>\n",
       "      <td>2</td>\n",
       "      <td>2.0</td>\n",
       "      <td>Alaknanda</td>\n",
       "      <td>17500000</td>\n",
       "      <td>12500.0</td>\n",
       "    </tr>\n",
       "    <tr>\n",
       "      <th>3</th>\n",
       "      <td>1400.0</td>\n",
       "      <td>2</td>\n",
       "      <td>2.0</td>\n",
       "      <td>Alaknanda</td>\n",
       "      <td>14000000</td>\n",
       "      <td>12500.0</td>\n",
       "    </tr>\n",
       "    <tr>\n",
       "      <th>4</th>\n",
       "      <td>1320.0</td>\n",
       "      <td>3</td>\n",
       "      <td>2.0</td>\n",
       "      <td>Alaknanda</td>\n",
       "      <td>15600000</td>\n",
       "      <td>12500.0</td>\n",
       "    </tr>\n",
       "  </tbody>\n",
       "</table>\n",
       "</div>"
      ],
      "text/plain": [
       "     Area  BHK  Bathroom   Locality     Price  Per_Sqft\n",
       "0  1400.0    3       2.0  Alaknanda  19000000   12500.0\n",
       "1  1100.0    2       2.0  Alaknanda  15000000   12500.0\n",
       "2  1200.0    2       2.0  Alaknanda  17500000   12500.0\n",
       "3  1400.0    2       2.0  Alaknanda  14000000   12500.0\n",
       "4  1320.0    3       2.0  Alaknanda  15600000   12500.0"
      ]
     },
     "execution_count": 38,
     "metadata": {},
     "output_type": "execute_result"
    }
   ],
   "source": [
    "data.head()"
   ]
  },
  {
   "cell_type": "code",
   "execution_count": 39,
   "id": "a39e55d5",
   "metadata": {},
   "outputs": [],
   "source": [
    "data.to_csv('Cleaned_data.csv')"
   ]
  },
  {
   "cell_type": "code",
   "execution_count": 40,
   "id": "c64644d9",
   "metadata": {},
   "outputs": [],
   "source": [
    "X = data.drop(columns=['Price'])\n",
    "y = data['Price']"
   ]
  },
  {
   "cell_type": "markdown",
   "id": "82ed0367",
   "metadata": {},
   "source": [
    "# Model Building"
   ]
  },
  {
   "cell_type": "code",
   "execution_count": 41,
   "id": "3758f4d2",
   "metadata": {},
   "outputs": [],
   "source": [
    "from sklearn.model_selection import train_test_split\n",
    "X_train, X_test, y_train, y_test = train_test_split(X,y,test_size=0.2,random_state=10)"
   ]
  },
  {
   "cell_type": "code",
   "execution_count": 42,
   "id": "7b79cfd4",
   "metadata": {},
   "outputs": [],
   "source": [
    "from sklearn.linear_model import LinearRegression,Lasso,Ridge\n",
    "from sklearn.preprocessing import OneHotEncoder,StandardScaler\n",
    "from sklearn.compose import make_column_transformer\n",
    "from sklearn.pipeline import make_pipeline\n",
    "from sklearn.metrics import r2_score"
   ]
  },
  {
   "cell_type": "code",
   "execution_count": 43,
   "id": "cbcba746",
   "metadata": {},
   "outputs": [
    {
     "name": "stdout",
     "output_type": "stream",
     "text": [
      "(580, 5)\n",
      "(146, 5)\n"
     ]
    }
   ],
   "source": [
    "print(X_train.shape)\n",
    "print(X_test.shape)"
   ]
  },
  {
   "cell_type": "markdown",
   "id": "47a3a75a",
   "metadata": {},
   "source": [
    "**APPLYING LINEAR REGRESSION**"
   ]
  },
  {
   "cell_type": "code",
   "execution_count": 44,
   "id": "4df1218e",
   "metadata": {},
   "outputs": [],
   "source": [
    "# column_trans = make_column_transformer((OneHotEncoder(sparse=False),['Locality','Furnishing','Transaction','Type']),\n",
    "#                                       remainder = 'passthrough')\n",
    "column_trans = make_column_transformer((OneHotEncoder(sparse=False),['Locality']),\n",
    "                                      remainder = 'passthrough')"
   ]
  },
  {
   "cell_type": "code",
   "execution_count": 45,
   "id": "a04c84f0",
   "metadata": {},
   "outputs": [],
   "source": [
    "scaler = StandardScaler()"
   ]
  },
  {
   "cell_type": "code",
   "execution_count": 46,
   "id": "4d756b0d",
   "metadata": {},
   "outputs": [],
   "source": [
    "lr = LinearRegression()"
   ]
  },
  {
   "cell_type": "code",
   "execution_count": 47,
   "id": "8e31dd88",
   "metadata": {},
   "outputs": [],
   "source": [
    "pipe = make_pipeline(column_trans,scaler,lr)"
   ]
  },
  {
   "cell_type": "code",
   "execution_count": 48,
   "id": "7ea73cf8",
   "metadata": {},
   "outputs": [
    {
     "name": "stderr",
     "output_type": "stream",
     "text": [
      "/Users/harshilbansal/anaconda3/lib/python3.10/site-packages/sklearn/preprocessing/_encoders.py:828: FutureWarning: `sparse` was renamed to `sparse_output` in version 1.2 and will be removed in 1.4. `sparse_output` is ignored unless you leave `sparse` to its default value.\n",
      "  warnings.warn(\n"
     ]
    },
    {
     "data": {
      "text/html": [
       "<style>#sk-container-id-1 {color: black;background-color: white;}#sk-container-id-1 pre{padding: 0;}#sk-container-id-1 div.sk-toggleable {background-color: white;}#sk-container-id-1 label.sk-toggleable__label {cursor: pointer;display: block;width: 100%;margin-bottom: 0;padding: 0.3em;box-sizing: border-box;text-align: center;}#sk-container-id-1 label.sk-toggleable__label-arrow:before {content: \"▸\";float: left;margin-right: 0.25em;color: #696969;}#sk-container-id-1 label.sk-toggleable__label-arrow:hover:before {color: black;}#sk-container-id-1 div.sk-estimator:hover label.sk-toggleable__label-arrow:before {color: black;}#sk-container-id-1 div.sk-toggleable__content {max-height: 0;max-width: 0;overflow: hidden;text-align: left;background-color: #f0f8ff;}#sk-container-id-1 div.sk-toggleable__content pre {margin: 0.2em;color: black;border-radius: 0.25em;background-color: #f0f8ff;}#sk-container-id-1 input.sk-toggleable__control:checked~div.sk-toggleable__content {max-height: 200px;max-width: 100%;overflow: auto;}#sk-container-id-1 input.sk-toggleable__control:checked~label.sk-toggleable__label-arrow:before {content: \"▾\";}#sk-container-id-1 div.sk-estimator input.sk-toggleable__control:checked~label.sk-toggleable__label {background-color: #d4ebff;}#sk-container-id-1 div.sk-label input.sk-toggleable__control:checked~label.sk-toggleable__label {background-color: #d4ebff;}#sk-container-id-1 input.sk-hidden--visually {border: 0;clip: rect(1px 1px 1px 1px);clip: rect(1px, 1px, 1px, 1px);height: 1px;margin: -1px;overflow: hidden;padding: 0;position: absolute;width: 1px;}#sk-container-id-1 div.sk-estimator {font-family: monospace;background-color: #f0f8ff;border: 1px dotted black;border-radius: 0.25em;box-sizing: border-box;margin-bottom: 0.5em;}#sk-container-id-1 div.sk-estimator:hover {background-color: #d4ebff;}#sk-container-id-1 div.sk-parallel-item::after {content: \"\";width: 100%;border-bottom: 1px solid gray;flex-grow: 1;}#sk-container-id-1 div.sk-label:hover label.sk-toggleable__label {background-color: #d4ebff;}#sk-container-id-1 div.sk-serial::before {content: \"\";position: absolute;border-left: 1px solid gray;box-sizing: border-box;top: 0;bottom: 0;left: 50%;z-index: 0;}#sk-container-id-1 div.sk-serial {display: flex;flex-direction: column;align-items: center;background-color: white;padding-right: 0.2em;padding-left: 0.2em;position: relative;}#sk-container-id-1 div.sk-item {position: relative;z-index: 1;}#sk-container-id-1 div.sk-parallel {display: flex;align-items: stretch;justify-content: center;background-color: white;position: relative;}#sk-container-id-1 div.sk-item::before, #sk-container-id-1 div.sk-parallel-item::before {content: \"\";position: absolute;border-left: 1px solid gray;box-sizing: border-box;top: 0;bottom: 0;left: 50%;z-index: -1;}#sk-container-id-1 div.sk-parallel-item {display: flex;flex-direction: column;z-index: 1;position: relative;background-color: white;}#sk-container-id-1 div.sk-parallel-item:first-child::after {align-self: flex-end;width: 50%;}#sk-container-id-1 div.sk-parallel-item:last-child::after {align-self: flex-start;width: 50%;}#sk-container-id-1 div.sk-parallel-item:only-child::after {width: 0;}#sk-container-id-1 div.sk-dashed-wrapped {border: 1px dashed gray;margin: 0 0.4em 0.5em 0.4em;box-sizing: border-box;padding-bottom: 0.4em;background-color: white;}#sk-container-id-1 div.sk-label label {font-family: monospace;font-weight: bold;display: inline-block;line-height: 1.2em;}#sk-container-id-1 div.sk-label-container {text-align: center;}#sk-container-id-1 div.sk-container {/* jupyter's `normalize.less` sets `[hidden] { display: none; }` but bootstrap.min.css set `[hidden] { display: none !important; }` so we also need the `!important` here to be able to override the default hidden behavior on the sphinx rendered scikit-learn.org. See: https://github.com/scikit-learn/scikit-learn/issues/21755 */display: inline-block !important;position: relative;}#sk-container-id-1 div.sk-text-repr-fallback {display: none;}</style><div id=\"sk-container-id-1\" class=\"sk-top-container\"><div class=\"sk-text-repr-fallback\"><pre>Pipeline(steps=[(&#x27;columntransformer&#x27;,\n",
       "                 ColumnTransformer(remainder=&#x27;passthrough&#x27;,\n",
       "                                   transformers=[(&#x27;onehotencoder&#x27;,\n",
       "                                                  OneHotEncoder(sparse=False),\n",
       "                                                  [&#x27;Locality&#x27;])])),\n",
       "                (&#x27;standardscaler&#x27;, StandardScaler()),\n",
       "                (&#x27;linearregression&#x27;, LinearRegression())])</pre><b>In a Jupyter environment, please rerun this cell to show the HTML representation or trust the notebook. <br />On GitHub, the HTML representation is unable to render, please try loading this page with nbviewer.org.</b></div><div class=\"sk-container\" hidden><div class=\"sk-item sk-dashed-wrapped\"><div class=\"sk-label-container\"><div class=\"sk-label sk-toggleable\"><input class=\"sk-toggleable__control sk-hidden--visually\" id=\"sk-estimator-id-1\" type=\"checkbox\" ><label for=\"sk-estimator-id-1\" class=\"sk-toggleable__label sk-toggleable__label-arrow\">Pipeline</label><div class=\"sk-toggleable__content\"><pre>Pipeline(steps=[(&#x27;columntransformer&#x27;,\n",
       "                 ColumnTransformer(remainder=&#x27;passthrough&#x27;,\n",
       "                                   transformers=[(&#x27;onehotencoder&#x27;,\n",
       "                                                  OneHotEncoder(sparse=False),\n",
       "                                                  [&#x27;Locality&#x27;])])),\n",
       "                (&#x27;standardscaler&#x27;, StandardScaler()),\n",
       "                (&#x27;linearregression&#x27;, LinearRegression())])</pre></div></div></div><div class=\"sk-serial\"><div class=\"sk-item sk-dashed-wrapped\"><div class=\"sk-label-container\"><div class=\"sk-label sk-toggleable\"><input class=\"sk-toggleable__control sk-hidden--visually\" id=\"sk-estimator-id-2\" type=\"checkbox\" ><label for=\"sk-estimator-id-2\" class=\"sk-toggleable__label sk-toggleable__label-arrow\">columntransformer: ColumnTransformer</label><div class=\"sk-toggleable__content\"><pre>ColumnTransformer(remainder=&#x27;passthrough&#x27;,\n",
       "                  transformers=[(&#x27;onehotencoder&#x27;, OneHotEncoder(sparse=False),\n",
       "                                 [&#x27;Locality&#x27;])])</pre></div></div></div><div class=\"sk-parallel\"><div class=\"sk-parallel-item\"><div class=\"sk-item\"><div class=\"sk-label-container\"><div class=\"sk-label sk-toggleable\"><input class=\"sk-toggleable__control sk-hidden--visually\" id=\"sk-estimator-id-3\" type=\"checkbox\" ><label for=\"sk-estimator-id-3\" class=\"sk-toggleable__label sk-toggleable__label-arrow\">onehotencoder</label><div class=\"sk-toggleable__content\"><pre>[&#x27;Locality&#x27;]</pre></div></div></div><div class=\"sk-serial\"><div class=\"sk-item\"><div class=\"sk-estimator sk-toggleable\"><input class=\"sk-toggleable__control sk-hidden--visually\" id=\"sk-estimator-id-4\" type=\"checkbox\" ><label for=\"sk-estimator-id-4\" class=\"sk-toggleable__label sk-toggleable__label-arrow\">OneHotEncoder</label><div class=\"sk-toggleable__content\"><pre>OneHotEncoder(sparse=False)</pre></div></div></div></div></div></div><div class=\"sk-parallel-item\"><div class=\"sk-item\"><div class=\"sk-label-container\"><div class=\"sk-label sk-toggleable\"><input class=\"sk-toggleable__control sk-hidden--visually\" id=\"sk-estimator-id-5\" type=\"checkbox\" ><label for=\"sk-estimator-id-5\" class=\"sk-toggleable__label sk-toggleable__label-arrow\">remainder</label><div class=\"sk-toggleable__content\"><pre>[&#x27;Area&#x27;, &#x27;BHK&#x27;, &#x27;Bathroom&#x27;, &#x27;Per_Sqft&#x27;]</pre></div></div></div><div class=\"sk-serial\"><div class=\"sk-item\"><div class=\"sk-estimator sk-toggleable\"><input class=\"sk-toggleable__control sk-hidden--visually\" id=\"sk-estimator-id-6\" type=\"checkbox\" ><label for=\"sk-estimator-id-6\" class=\"sk-toggleable__label sk-toggleable__label-arrow\">passthrough</label><div class=\"sk-toggleable__content\"><pre>passthrough</pre></div></div></div></div></div></div></div></div><div class=\"sk-item\"><div class=\"sk-estimator sk-toggleable\"><input class=\"sk-toggleable__control sk-hidden--visually\" id=\"sk-estimator-id-7\" type=\"checkbox\" ><label for=\"sk-estimator-id-7\" class=\"sk-toggleable__label sk-toggleable__label-arrow\">StandardScaler</label><div class=\"sk-toggleable__content\"><pre>StandardScaler()</pre></div></div></div><div class=\"sk-item\"><div class=\"sk-estimator sk-toggleable\"><input class=\"sk-toggleable__control sk-hidden--visually\" id=\"sk-estimator-id-8\" type=\"checkbox\" ><label for=\"sk-estimator-id-8\" class=\"sk-toggleable__label sk-toggleable__label-arrow\">LinearRegression</label><div class=\"sk-toggleable__content\"><pre>LinearRegression()</pre></div></div></div></div></div></div></div>"
      ],
      "text/plain": [
       "Pipeline(steps=[('columntransformer',\n",
       "                 ColumnTransformer(remainder='passthrough',\n",
       "                                   transformers=[('onehotencoder',\n",
       "                                                  OneHotEncoder(sparse=False),\n",
       "                                                  ['Locality'])])),\n",
       "                ('standardscaler', StandardScaler()),\n",
       "                ('linearregression', LinearRegression())])"
      ]
     },
     "execution_count": 48,
     "metadata": {},
     "output_type": "execute_result"
    }
   ],
   "source": [
    "pipe.fit(X_train,y_train)"
   ]
  },
  {
   "cell_type": "code",
   "execution_count": 49,
   "id": "2a7b8a86",
   "metadata": {},
   "outputs": [],
   "source": [
    "y_pred_lr = pipe.predict(X_test)"
   ]
  },
  {
   "cell_type": "code",
   "execution_count": 50,
   "id": "d586cc48",
   "metadata": {},
   "outputs": [
    {
     "data": {
      "text/plain": [
       "0.6070079583763082"
      ]
     },
     "execution_count": 50,
     "metadata": {},
     "output_type": "execute_result"
    }
   ],
   "source": [
    "r2_score(y_test,y_pred_lr)"
   ]
  },
  {
   "cell_type": "code",
   "execution_count": null,
   "id": "d3ece20c",
   "metadata": {},
   "outputs": [],
   "source": []
  }
 ],
 "metadata": {
  "kernelspec": {
   "display_name": "Python 3 (ipykernel)",
   "language": "python",
   "name": "python3"
  },
  "language_info": {
   "codemirror_mode": {
    "name": "ipython",
    "version": 3
   },
   "file_extension": ".py",
   "mimetype": "text/x-python",
   "name": "python",
   "nbconvert_exporter": "python",
   "pygments_lexer": "ipython3",
   "version": "3.11.3"
  }
 },
 "nbformat": 4,
 "nbformat_minor": 5
}
